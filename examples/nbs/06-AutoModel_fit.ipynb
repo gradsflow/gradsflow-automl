{
 "cells": [
  {
   "cell_type": "markdown",
   "id": "0",
   "metadata": {},
   "source": [
    "<!--<badge>--><a href=\"https://colab.research.google.com/github/gradsflow/gradsflow/blob/main/examples/nbs/06-AutoModel_fit.ipynb\" target=\"_parent\"><img src=\"https://colab.research.google.com/assets/colab-badge.svg\" alt=\"Open In Colab\"/></a><!--</badge>-->"
   ]
  },
  {
   "cell_type": "markdown",
   "id": "1",
   "metadata": {},
   "source": [
    "This example shows how to search hyperparameters for a model with Tuner module."
   ]
  },
  {
   "cell_type": "code",
   "execution_count": null,
   "id": "2",
   "metadata": {},
   "outputs": [],
   "source": [
    "import os\n",
    "\n",
    "# you can remove this\n",
    "os.chdir(\"../../\")"
   ]
  },
  {
   "cell_type": "code",
   "execution_count": null,
   "id": "3",
   "metadata": {},
   "outputs": [],
   "source": [
    "from gradsflow import Model\n",
    "from gradsflow.tuner.tuner import Tuner"
   ]
  },
  {
   "cell_type": "code",
   "execution_count": null,
   "id": "4",
   "metadata": {},
   "outputs": [],
   "source": [
    "from timm import create_model\n",
    "from ray import tune\n",
    "from gradsflow.data.image import get_fake_data\n",
    "\n",
    "from gradsflow import AutoDataset"
   ]
  },
  {
   "cell_type": "code",
   "execution_count": null,
   "id": "5",
   "metadata": {},
   "outputs": [],
   "source": [
    "image_size = (64, 64)\n",
    "fake_data = get_fake_data(image_size, num_workers=0)\n",
    "train_ds, train_dl = fake_data.dataset, fake_data.dataloader\n",
    "\n",
    "fake_data = get_fake_data(image_size, num_workers=0)\n",
    "val_ds, val_dl = fake_data.dataset, fake_data.dataloader\n",
    "\n",
    "num_classes = train_ds.num_classes\n",
    "autodataset = AutoDataset(train_dl, val_dl, num_classes=num_classes)"
   ]
  },
  {
   "cell_type": "code",
   "execution_count": null,
   "id": "6",
   "metadata": {},
   "outputs": [],
   "source": [
    "from gradsflow.tuner.tuner import Tuner\n",
    "from gradsflow.tuner.automodel import AutoModelV2"
   ]
  },
  {
   "cell_type": "markdown",
   "id": "7",
   "metadata": {},
   "source": [
    "## Registering hyperparameters\n",
    "\n",
    "Gradsflow AutoModel provides you two main ways to register your hyperparameters.\n",
    "\n",
    "Easiest way is to compile the model and the values will be registered automatically.\n",
    "In this example we will hyperparameter search for ConvNet architecture, optimizer and learning rate."
   ]
  },
  {
   "cell_type": "code",
   "execution_count": null,
   "id": "8",
   "metadata": {},
   "outputs": [
    {
     "name": "stderr",
     "output_type": "stream",
     "text": [
      "2021-10-09 09:38:07,002\tINFO services.py:1250 -- View the Ray dashboard at \u001b[1m\u001b[32mhttp://127.0.0.1:8265\u001b[39m\u001b[22m\n"
     ]
    }
   ],
   "source": [
    "tuner = Tuner()\n",
    "\n",
    "\n",
    "cnn1 = create_model(\"resnet18\", pretrained=False, num_classes=num_classes)\n",
    "cnn2 = create_model(\"efficientnet_b0\", pretrained=False, num_classes=num_classes)\n",
    "cnns = tuner.suggest_complex(\"learner\", cnn1, cnn2)"
   ]
  },
  {
   "cell_type": "code",
   "execution_count": null,
   "id": "9",
   "metadata": {},
   "outputs": [],
   "source": [
    "model = AutoModelV2(cnns)\n",
    "\n",
    "model.compile(\n",
    "    loss=\"crossentropyloss\",\n",
    "    optimizer=tune.choice((\"adam\", \"sgd\")),\n",
    "    learning_rate=tune.loguniform(1e-5, 1e-3),\n",
    "    metrics=\"accuracy\",\n",
    ")"
   ]
  },
  {
   "cell_type": "code",
   "execution_count": null,
   "id": "10",
   "metadata": {},
   "outputs": [
    {
     "name": "stderr",
     "output_type": "stream",
     "text": [
      "2021-10-09 09:38:07,521\tWARNING function_runner.py:558 -- Function checkpointing is disabled. This may result in unexpected behavior when using checkpointing features or certain schedulers. To enable, set the train function arguments to be `func(config, checkpoint_dir=None)`.\n"
     ]
    },
    {
     "data": {
      "text/html": [
       "== Status ==<br>Memory usage on this node: 9.3/16.0 GiB<br>Using FIFO scheduling algorithm.<br>Resources requested: 0/8 CPUs, 0/0 GPUs, 0.0/5.61 GiB heap, 0.0/2.81 GiB objects<br>Result logdir: /Users/aniket/ray_results/trainable_2021-10-09_09-38-07<br>Number of trials: 1/1 (1 PENDING)<br><table>\n",
       "<thead>\n",
       "<tr><th>Trial name           </th><th>status  </th><th>loc  </th><th style=\"text-align: right;\">  learner</th><th style=\"text-align: right;\">  learning_rate</th><th>optimizer  </th></tr>\n",
       "</thead>\n",
       "<tbody>\n",
       "<tr><td>trainable_8234a_00000</td><td>PENDING </td><td>     </td><td style=\"text-align: right;\">        1</td><td style=\"text-align: right;\">    0.000146035</td><td>adam       </td></tr>\n",
       "</tbody>\n",
       "</table><br><br>"
      ],
      "text/plain": [
       "<IPython.core.display.HTML object>"
      ]
     },
     "metadata": {},
     "output_type": "display_data"
    },
    {
     "data": {
      "text/html": [
       "== Status ==<br>Memory usage on this node: 9.5/16.0 GiB<br>Using FIFO scheduling algorithm.<br>Resources requested: 1.0/8 CPUs, 0/0 GPUs, 0.0/5.61 GiB heap, 0.0/2.81 GiB objects<br>Result logdir: /Users/aniket/ray_results/trainable_2021-10-09_09-38-07<br>Number of trials: 1/1 (1 RUNNING)<br><table>\n",
       "<thead>\n",
       "<tr><th>Trial name           </th><th>status  </th><th>loc  </th><th style=\"text-align: right;\">  learner</th><th style=\"text-align: right;\">  learning_rate</th><th>optimizer  </th></tr>\n",
       "</thead>\n",
       "<tbody>\n",
       "<tr><td>trainable_8234a_00000</td><td>RUNNING </td><td>     </td><td style=\"text-align: right;\">        1</td><td style=\"text-align: right;\">    0.000146035</td><td>adam       </td></tr>\n",
       "</tbody>\n",
       "</table><br><br>"
      ],
      "text/plain": [
       "<IPython.core.display.HTML object>"
      ]
     },
     "metadata": {},
     "output_type": "display_data"
    },
    {
     "data": {
      "text/html": [
       "== Status ==<br>Memory usage on this node: 9.5/16.0 GiB<br>Using FIFO scheduling algorithm.<br>Resources requested: 1.0/8 CPUs, 0/0 GPUs, 0.0/5.61 GiB heap, 0.0/2.81 GiB objects<br>Result logdir: /Users/aniket/ray_results/trainable_2021-10-09_09-38-07<br>Number of trials: 1/1 (1 RUNNING)<br><table>\n",
       "<thead>\n",
       "<tr><th>Trial name           </th><th>status  </th><th>loc  </th><th style=\"text-align: right;\">  learner</th><th style=\"text-align: right;\">  learning_rate</th><th>optimizer  </th></tr>\n",
       "</thead>\n",
       "<tbody>\n",
       "<tr><td>trainable_8234a_00000</td><td>RUNNING </td><td>     </td><td style=\"text-align: right;\">        1</td><td style=\"text-align: right;\">    0.000146035</td><td>adam       </td></tr>\n",
       "</tbody>\n",
       "</table><br><br>"
      ],
      "text/plain": [
       "<IPython.core.display.HTML object>"
      ]
     },
     "metadata": {},
     "output_type": "display_data"
    },
    {
     "data": {
      "text/html": [
       "== Status ==<br>Memory usage on this node: 9.5/16.0 GiB<br>Using FIFO scheduling algorithm.<br>Resources requested: 1.0/8 CPUs, 0/0 GPUs, 0.0/5.61 GiB heap, 0.0/2.81 GiB objects<br>Result logdir: /Users/aniket/ray_results/trainable_2021-10-09_09-38-07<br>Number of trials: 1/1 (1 RUNNING)<br><table>\n",
       "<thead>\n",
       "<tr><th>Trial name           </th><th>status  </th><th>loc  </th><th style=\"text-align: right;\">  learner</th><th style=\"text-align: right;\">  learning_rate</th><th>optimizer  </th></tr>\n",
       "</thead>\n",
       "<tbody>\n",
       "<tr><td>trainable_8234a_00000</td><td>RUNNING </td><td>     </td><td style=\"text-align: right;\">        1</td><td style=\"text-align: right;\">    0.000146035</td><td>adam       </td></tr>\n",
       "</tbody>\n",
       "</table><br><br>"
      ],
      "text/plain": [
       "<IPython.core.display.HTML object>"
      ]
     },
     "metadata": {},
     "output_type": "display_data"
    },
    {
     "data": {
      "text/html": [
       "== Status ==<br>Memory usage on this node: 9.5/16.0 GiB<br>Using FIFO scheduling algorithm.<br>Resources requested: 1.0/8 CPUs, 0/0 GPUs, 0.0/5.61 GiB heap, 0.0/2.81 GiB objects<br>Result logdir: /Users/aniket/ray_results/trainable_2021-10-09_09-38-07<br>Number of trials: 1/1 (1 RUNNING)<br><table>\n",
       "<thead>\n",
       "<tr><th>Trial name           </th><th>status  </th><th>loc  </th><th style=\"text-align: right;\">  learner</th><th style=\"text-align: right;\">  learning_rate</th><th>optimizer  </th></tr>\n",
       "</thead>\n",
       "<tbody>\n",
       "<tr><td>trainable_8234a_00000</td><td>RUNNING </td><td>     </td><td style=\"text-align: right;\">        1</td><td style=\"text-align: right;\">    0.000146035</td><td>adam       </td></tr>\n",
       "</tbody>\n",
       "</table><br><br>"
      ],
      "text/plain": [
       "<IPython.core.display.HTML object>"
      ]
     },
     "metadata": {},
     "output_type": "display_data"
    },
    {
     "data": {
      "text/html": [
       "== Status ==<br>Memory usage on this node: 9.5/16.0 GiB<br>Using FIFO scheduling algorithm.<br>Resources requested: 1.0/8 CPUs, 0/0 GPUs, 0.0/5.61 GiB heap, 0.0/2.81 GiB objects<br>Result logdir: /Users/aniket/ray_results/trainable_2021-10-09_09-38-07<br>Number of trials: 1/1 (1 RUNNING)<br><table>\n",
       "<thead>\n",
       "<tr><th>Trial name           </th><th>status  </th><th>loc  </th><th style=\"text-align: right;\">  learner</th><th style=\"text-align: right;\">  learning_rate</th><th>optimizer  </th></tr>\n",
       "</thead>\n",
       "<tbody>\n",
       "<tr><td>trainable_8234a_00000</td><td>RUNNING </td><td>     </td><td style=\"text-align: right;\">        1</td><td style=\"text-align: right;\">    0.000146035</td><td>adam       </td></tr>\n",
       "</tbody>\n",
       "</table><br><br>"
      ],
      "text/plain": [
       "<IPython.core.display.HTML object>"
      ]
     },
     "metadata": {},
     "output_type": "display_data"
    },
    {
     "data": {
      "text/html": [
       "== Status ==<br>Memory usage on this node: 9.5/16.0 GiB<br>Using FIFO scheduling algorithm.<br>Resources requested: 1.0/8 CPUs, 0/0 GPUs, 0.0/5.61 GiB heap, 0.0/2.81 GiB objects<br>Result logdir: /Users/aniket/ray_results/trainable_2021-10-09_09-38-07<br>Number of trials: 1/1 (1 RUNNING)<br><table>\n",
       "<thead>\n",
       "<tr><th>Trial name           </th><th>status  </th><th>loc  </th><th style=\"text-align: right;\">  learner</th><th style=\"text-align: right;\">  learning_rate</th><th>optimizer  </th></tr>\n",
       "</thead>\n",
       "<tbody>\n",
       "<tr><td>trainable_8234a_00000</td><td>RUNNING </td><td>     </td><td style=\"text-align: right;\">        1</td><td style=\"text-align: right;\">    0.000146035</td><td>adam       </td></tr>\n",
       "</tbody>\n",
       "</table><br><br>"
      ],
      "text/plain": [
       "<IPython.core.display.HTML object>"
      ]
     },
     "metadata": {},
     "output_type": "display_data"
    },
    {
     "name": "stdout",
     "output_type": "stream",
     "text": [
      "Result for trainable_8234a_00000:\n",
      "  date: 2021-10-09_09-38-39\n",
      "  done: false\n",
      "  experiment_id: 62141761f7d541bba0df2e14526d1b1e\n",
      "  hostname: Anikets-Turing-Machine.local\n",
      "  iterations_since_restore: 1\n",
      "  node_ip: 192.168.50.84\n",
      "  pid: 9798\n",
      "  should_checkpoint: true\n",
      "  time_since_restore: 26.36624789237976\n",
      "  time_this_iter_s: 26.36624789237976\n",
      "  time_total_s: 26.36624789237976\n",
      "  timestamp: 1633752519\n",
      "  timesteps_since_restore: 0\n",
      "  train_accuracy: tensor(0.0900)\n",
      "  train_loss: 2.4604174029581074\n",
      "  training_iteration: 1\n",
      "  trial_id: 8234a_00000\n",
      "  val_accuracy: tensor(0.0900)\n",
      "  val_loss: 25.253401203201005\n",
      "  \n",
      "Result for trainable_8234a_00000:\n",
      "  date: 2021-10-09_09-38-39\n",
      "  done: true\n",
      "  experiment_id: 62141761f7d541bba0df2e14526d1b1e\n",
      "  experiment_tag: 0_learner=1,learning_rate=0.00014603,optimizer=adam\n",
      "  hostname: Anikets-Turing-Machine.local\n",
      "  iterations_since_restore: 1\n",
      "  node_ip: 192.168.50.84\n",
      "  pid: 9798\n",
      "  should_checkpoint: true\n",
      "  time_since_restore: 26.36624789237976\n",
      "  time_this_iter_s: 26.36624789237976\n",
      "  time_total_s: 26.36624789237976\n",
      "  timestamp: 1633752519\n",
      "  timesteps_since_restore: 0\n",
      "  train_accuracy: tensor(0.0900)\n",
      "  train_loss: 2.4604174029581074\n",
      "  training_iteration: 1\n",
      "  trial_id: 8234a_00000\n",
      "  val_accuracy: tensor(0.0900)\n",
      "  val_loss: 25.253401203201005\n",
      "  \n"
     ]
    },
    {
     "data": {
      "text/html": [
       "== Status ==<br>Memory usage on this node: 9.5/16.0 GiB<br>Using FIFO scheduling algorithm.<br>Resources requested: 0/8 CPUs, 0/0 GPUs, 0.0/5.61 GiB heap, 0.0/2.81 GiB objects<br>Current best trial: 8234a_00000 with train_loss=2.4604174029581074 and parameters={'learner': 1, 'optimizer': 'adam', 'learning_rate': 0.00014603467084700278}<br>Result logdir: /Users/aniket/ray_results/trainable_2021-10-09_09-38-07<br>Number of trials: 1/1 (1 TERMINATED)<br><table>\n",
       "<thead>\n",
       "<tr><th>Trial name           </th><th>status    </th><th>loc  </th><th style=\"text-align: right;\">  learner</th><th style=\"text-align: right;\">  learning_rate</th><th>optimizer  </th><th style=\"text-align: right;\">  iter</th><th style=\"text-align: right;\">  total time (s)</th><th style=\"text-align: right;\">  val_loss</th><th style=\"text-align: right;\">  train_loss</th></tr>\n",
       "</thead>\n",
       "<tbody>\n",
       "<tr><td>trainable_8234a_00000</td><td>TERMINATED</td><td>     </td><td style=\"text-align: right;\">        1</td><td style=\"text-align: right;\">    0.000146035</td><td>adam       </td><td style=\"text-align: right;\">     1</td><td style=\"text-align: right;\">         26.3662</td><td style=\"text-align: right;\">   25.2534</td><td style=\"text-align: right;\">     2.46042</td></tr>\n",
       "</tbody>\n",
       "</table><br><br>"
      ],
      "text/plain": [
       "<IPython.core.display.HTML object>"
      ]
     },
     "metadata": {},
     "output_type": "display_data"
    },
    {
     "name": "stderr",
     "output_type": "stream",
     "text": [
      "2021-10-09 09:38:39,930\tINFO tune.py:617 -- Total run time: 32.42 seconds (32.23 seconds for the tuning loop).\n"
     ]
    }
   ],
   "source": [
    "model.hp_tune(tuner, autodataset, epochs=1, n_trials=1)"
   ]
  },
  {
   "cell_type": "markdown",
   "id": "11",
   "metadata": {},
   "source": [
    "### The second way to register hyperparameters is to use Tuner module."
   ]
  },
  {
   "cell_type": "code",
   "execution_count": null,
   "id": "12",
   "metadata": {},
   "outputs": [],
   "source": [
    "tuner = Tuner()\n",
    "\n",
    "\n",
    "cnn1 = create_model(\"resnet18\", pretrained=False, num_classes=num_classes)\n",
    "cnn2 = create_model(\"efficientnet_b0\", pretrained=False, num_classes=num_classes)\n",
    "cnns = tuner.suggest_complex(\"learner\", cnn1, cnn2)"
   ]
  },
  {
   "cell_type": "code",
   "execution_count": null,
   "id": "13",
   "metadata": {},
   "outputs": [],
   "source": [
    "tuner.choice(\"optimizer\", \"adam\", \"sgd\")\n",
    "tuner.loguniform(\"learning_rate\", 1e-5, 1e-3)\n",
    "tuner.scalar(\"loss\", \"crossentropyloss\")"
   ]
  },
  {
   "cell_type": "code",
   "execution_count": null,
   "id": "14",
   "metadata": {},
   "outputs": [
    {
     "data": {
      "text/html": [
       "== Status ==<br>Memory usage on this node: 9.4/16.0 GiB<br>Using FIFO scheduling algorithm.<br>Resources requested: 0/8 CPUs, 0/0 GPUs, 0.0/5.61 GiB heap, 0.0/2.81 GiB objects<br>Result logdir: /Users/aniket/ray_results/trainable_2021-10-09_09-38-40<br>Number of trials: 1/1 (1 PENDING)<br><table>\n",
       "<thead>\n",
       "<tr><th>Trial name           </th><th>status  </th><th>loc  </th><th style=\"text-align: right;\">  learner</th><th style=\"text-align: right;\">  learning_rate</th><th>optimizer  </th></tr>\n",
       "</thead>\n",
       "<tbody>\n",
       "<tr><td>trainable_95d24_00000</td><td>PENDING </td><td>     </td><td style=\"text-align: right;\">        0</td><td style=\"text-align: right;\">    1.00317e-05</td><td>sgd        </td></tr>\n",
       "</tbody>\n",
       "</table><br><br>"
      ],
      "text/plain": [
       "<IPython.core.display.HTML object>"
      ]
     },
     "metadata": {},
     "output_type": "display_data"
    },
    {
     "data": {
      "text/html": [
       "== Status ==<br>Memory usage on this node: 9.5/16.0 GiB<br>Using FIFO scheduling algorithm.<br>Resources requested: 1.0/8 CPUs, 0/0 GPUs, 0.0/5.61 GiB heap, 0.0/2.81 GiB objects<br>Result logdir: /Users/aniket/ray_results/trainable_2021-10-09_09-38-40<br>Number of trials: 1/1 (1 RUNNING)<br><table>\n",
       "<thead>\n",
       "<tr><th>Trial name           </th><th>status  </th><th>loc  </th><th style=\"text-align: right;\">  learner</th><th style=\"text-align: right;\">  learning_rate</th><th>optimizer  </th></tr>\n",
       "</thead>\n",
       "<tbody>\n",
       "<tr><td>trainable_95d24_00000</td><td>RUNNING </td><td>     </td><td style=\"text-align: right;\">        0</td><td style=\"text-align: right;\">    1.00317e-05</td><td>sgd        </td></tr>\n",
       "</tbody>\n",
       "</table><br><br>"
      ],
      "text/plain": [
       "<IPython.core.display.HTML object>"
      ]
     },
     "metadata": {},
     "output_type": "display_data"
    },
    {
     "data": {
      "text/html": [
       "== Status ==<br>Memory usage on this node: 9.6/16.0 GiB<br>Using FIFO scheduling algorithm.<br>Resources requested: 1.0/8 CPUs, 0/0 GPUs, 0.0/5.61 GiB heap, 0.0/2.81 GiB objects<br>Result logdir: /Users/aniket/ray_results/trainable_2021-10-09_09-38-40<br>Number of trials: 1/1 (1 RUNNING)<br><table>\n",
       "<thead>\n",
       "<tr><th>Trial name           </th><th>status  </th><th>loc  </th><th style=\"text-align: right;\">  learner</th><th style=\"text-align: right;\">  learning_rate</th><th>optimizer  </th></tr>\n",
       "</thead>\n",
       "<tbody>\n",
       "<tr><td>trainable_95d24_00000</td><td>RUNNING </td><td>     </td><td style=\"text-align: right;\">        0</td><td style=\"text-align: right;\">    1.00317e-05</td><td>sgd        </td></tr>\n",
       "</tbody>\n",
       "</table><br><br>"
      ],
      "text/plain": [
       "<IPython.core.display.HTML object>"
      ]
     },
     "metadata": {},
     "output_type": "display_data"
    },
    {
     "data": {
      "text/html": [
       "== Status ==<br>Memory usage on this node: 9.5/16.0 GiB<br>Using FIFO scheduling algorithm.<br>Resources requested: 1.0/8 CPUs, 0/0 GPUs, 0.0/5.61 GiB heap, 0.0/2.81 GiB objects<br>Result logdir: /Users/aniket/ray_results/trainable_2021-10-09_09-38-40<br>Number of trials: 1/1 (1 RUNNING)<br><table>\n",
       "<thead>\n",
       "<tr><th>Trial name           </th><th>status  </th><th>loc  </th><th style=\"text-align: right;\">  learner</th><th style=\"text-align: right;\">  learning_rate</th><th>optimizer  </th></tr>\n",
       "</thead>\n",
       "<tbody>\n",
       "<tr><td>trainable_95d24_00000</td><td>RUNNING </td><td>     </td><td style=\"text-align: right;\">        0</td><td style=\"text-align: right;\">    1.00317e-05</td><td>sgd        </td></tr>\n",
       "</tbody>\n",
       "</table><br><br>"
      ],
      "text/plain": [
       "<IPython.core.display.HTML object>"
      ]
     },
     "metadata": {},
     "output_type": "display_data"
    },
    {
     "name": "stdout",
     "output_type": "stream",
     "text": [
      "Result for trainable_95d24_00000:\n",
      "  date: 2021-10-09_09-38-59\n",
      "  done: false\n",
      "  experiment_id: ae1947fa57dd47f69512fb8f967d5716\n",
      "  hostname: Anikets-Turing-Machine.local\n",
      "  iterations_since_restore: 1\n",
      "  node_ip: 192.168.50.84\n",
      "  pid: 9811\n",
      "  should_checkpoint: true\n",
      "  time_since_restore: 13.801200151443481\n",
      "  time_this_iter_s: 13.801200151443481\n",
      "  time_total_s: 13.801200151443481\n",
      "  timestamp: 1633752539\n",
      "  timesteps_since_restore: 0\n",
      "  train_loss: 2.308414518810076\n",
      "  training_iteration: 1\n",
      "  trial_id: 95d24_00000\n",
      "  val_loss: 2.3132864784963068\n",
      "  \n",
      "Result for trainable_95d24_00000:\n",
      "  date: 2021-10-09_09-38-59\n",
      "  done: true\n",
      "  experiment_id: ae1947fa57dd47f69512fb8f967d5716\n",
      "  experiment_tag: 0_learner=0,learning_rate=1.0032e-05,optimizer=sgd\n",
      "  hostname: Anikets-Turing-Machine.local\n",
      "  iterations_since_restore: 1\n",
      "  node_ip: 192.168.50.84\n",
      "  pid: 9811\n",
      "  should_checkpoint: true\n",
      "  time_since_restore: 13.801200151443481\n",
      "  time_this_iter_s: 13.801200151443481\n",
      "  time_total_s: 13.801200151443481\n",
      "  timestamp: 1633752539\n",
      "  timesteps_since_restore: 0\n",
      "  train_loss: 2.308414518810076\n",
      "  training_iteration: 1\n",
      "  trial_id: 95d24_00000\n",
      "  val_loss: 2.3132864784963068\n",
      "  \n"
     ]
    },
    {
     "data": {
      "text/html": [
       "== Status ==<br>Memory usage on this node: 9.5/16.0 GiB<br>Using FIFO scheduling algorithm.<br>Resources requested: 0/8 CPUs, 0/0 GPUs, 0.0/5.61 GiB heap, 0.0/2.81 GiB objects<br>Current best trial: 95d24_00000 with train_loss=2.308414518810076 and parameters={'learner': 0, 'optimizer': 'sgd', 'learning_rate': 1.0031736212717992e-05, 'loss': 'crossentropyloss'}<br>Result logdir: /Users/aniket/ray_results/trainable_2021-10-09_09-38-40<br>Number of trials: 1/1 (1 TERMINATED)<br><table>\n",
       "<thead>\n",
       "<tr><th>Trial name           </th><th>status    </th><th>loc  </th><th style=\"text-align: right;\">  learner</th><th style=\"text-align: right;\">  learning_rate</th><th>optimizer  </th><th style=\"text-align: right;\">  iter</th><th style=\"text-align: right;\">  total time (s)</th><th style=\"text-align: right;\">  val_loss</th><th style=\"text-align: right;\">  train_loss</th></tr>\n",
       "</thead>\n",
       "<tbody>\n",
       "<tr><td>trainable_95d24_00000</td><td>TERMINATED</td><td>     </td><td style=\"text-align: right;\">        0</td><td style=\"text-align: right;\">    1.00317e-05</td><td>sgd        </td><td style=\"text-align: right;\">     1</td><td style=\"text-align: right;\">         13.8012</td><td style=\"text-align: right;\">   2.31329</td><td style=\"text-align: right;\">     2.30841</td></tr>\n",
       "</tbody>\n",
       "</table><br><br>"
      ],
      "text/plain": [
       "<IPython.core.display.HTML object>"
      ]
     },
     "metadata": {},
     "output_type": "display_data"
    },
    {
     "name": "stderr",
     "output_type": "stream",
     "text": [
      "2021-10-09 09:38:59,845\tINFO tune.py:617 -- Total run time: 19.41 seconds (19.29 seconds for the tuning loop).\n"
     ]
    }
   ],
   "source": [
    "model = AutoModelV2(cnns)\n",
    "model.hp_tune(tuner, autodataset, epochs=1, n_trials=1)"
   ]
  }
 ],
 "metadata": {
  "kernelspec": {
   "display_name": "Python 3 (ipykernel)",
   "language": "python",
   "name": "python3"
  },
  "language_info": {
   "codemirror_mode": {
    "name": "ipython",
    "version": 3
   },
   "file_extension": ".py",
   "mimetype": "text/x-python",
   "name": "python",
   "nbconvert_exporter": "python",
   "pygments_lexer": "ipython3",
   "version": "3.8.11"
  },
  "toc": {
   "base_numbering": 1,
   "nav_menu": {},
   "number_sections": true,
   "sideBar": true,
   "skip_h1_title": false,
   "title_cell": "Table of Contents",
   "title_sidebar": "Contents",
   "toc_cell": false,
   "toc_position": {},
   "toc_section_display": true,
   "toc_window_display": false
  }
 },
 "nbformat": 4,
 "nbformat_minor": 5
}
