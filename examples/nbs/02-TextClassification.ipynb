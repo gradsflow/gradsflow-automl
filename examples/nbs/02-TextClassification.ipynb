{
 "cells": [
  {
   "cell_type": "markdown",
   "id": "0",
   "metadata": {
    "id": "52697382"
   },
   "source": [
    "<!--<badge>--><a href=\"https://colab.research.google.com/github/gradsflow/gradsflow/blob/main/examples/nbs/02-TextClassification.ipynb\" target=\"_parent\"><img src=\"https://colab.research.google.com/assets/colab-badge.svg\" alt=\"Open In Colab\"/></a><!--</badge>-->"
   ]
  },
  {
   "cell_type": "code",
   "execution_count": null,
   "id": "1",
   "metadata": {
    "id": "e130bd40"
   },
   "outputs": [],
   "source": [
    "import os\n",
    "import sys\n",
    "\n",
    "os.chdir(\"../../\")"
   ]
  },
  {
   "cell_type": "code",
   "execution_count": null,
   "id": "2",
   "metadata": {
    "id": "592802fe"
   },
   "outputs": [],
   "source": [
    "import warnings\n",
    "\n",
    "warnings.filterwarnings(\"ignore\")"
   ]
  },
  {
   "cell_type": "code",
   "execution_count": null,
   "id": "3",
   "metadata": {
    "id": "uTrRNUfn5wg4"
   },
   "outputs": [],
   "source": [
    "!pip install git+https://github.com/gradsflow/gradsflow@main -q\n",
    "!pip install \"lightning-flash[text]\" -q"
   ]
  },
  {
   "cell_type": "code",
   "execution_count": null,
   "id": "4",
   "metadata": {
    "id": "bf38e2b8"
   },
   "outputs": [],
   "source": [
    "from flash.text import TextClassificationData\n",
    "from flash.core.data.utils import download_data\n",
    "\n",
    "from gradsflow import AutoTextClassifier"
   ]
  },
  {
   "cell_type": "code",
   "execution_count": null,
   "id": "5",
   "metadata": {
    "colab": {
     "base_uri": "https://localhost:8080/",
     "height": 49,
     "referenced_widgets": [
      "6e4f098d0eb74ada8cc84a3d0c717360",
      "026cf7897cad4398a7afae4e472f7bfa",
      "e2d899d60ca74985a61829bee1070718",
      "b46a4a342b4444c6b34e351783967d7d",
      "c5fc56426ae84090bf7ba31d2925be69",
      "62eba7a0772d4c3ebc5107b7bdd79855",
      "20ad5619053748399f19ad93800bfe79",
      "5515b4f0a9cd4486a64623da97f80b68",
      "95a48b3e83c64fec8883fe5d89176976",
      "df235cd38cfe47a29bb09aa510a8ba54",
      "1481b0249f644a7ea345b24b5dad6ac2"
     ]
    },
    "id": "5fc8603f",
    "outputId": "eef00305-5927-4310-e49c-8c9f5cae68bf",
    "pycharm": {
     "name": "#%%\n"
    }
   },
   "outputs": [
    {
     "data": {
      "application/vnd.jupyter.widget-view+json": {
       "model_id": "6e4f098d0eb74ada8cc84a3d0c717360",
       "version_major": 2,
       "version_minor": 0
      },
      "text/plain": [
       "./data/imdb.zip:   0%|          | 0/15575 [00:00<?, ?KB/s]"
      ]
     },
     "metadata": {},
     "output_type": "display_data"
    }
   ],
   "source": [
    "# Download dataset for the experiment\n",
    "download_data(\"https://pl-flash-data.s3.amazonaws.com/imdb.zip\", \"./data/\")"
   ]
  },
  {
   "cell_type": "code",
   "execution_count": null,
   "id": "6",
   "metadata": {
    "colab": {
     "base_uri": "https://localhost:8080/",
     "height": 208,
     "referenced_widgets": [
      "e540dc6a8a94426798ba1d83c11790e8",
      "b47da9e0a84a413daefeac8869287fd0",
      "ebfbe7fa41584baea8a1d80e77064fe4",
      "5d8fad730cc54794b091c87def020ec4",
      "fe1dff88f7ee4a44a9a45cdb11a6e3f5",
      "57bd2de844ff4656b2922ba59b7f42ff",
      "2983acd8a13f470ba7f7306281fae6d4",
      "0d048645352b4540a551f5e2296a620a",
      "5b2677bb9e4d4190bf46f7d9df72c5fb",
      "0c3a8a6cf41446059d41ea09feb04af1",
      "cdb81bc63c364456a4e3cb301fac77d0",
      "376034c995e04cef86f46cdaa8a08af6",
      "d590a786303a4177b955db86b01f611d",
      "d12e270aed5c46f3b2e8fc9ca4fe6580",
      "4ad6b54647bc49c9b9e5e452d6512e42",
      "573e80eaffb9414fbf755cb825f998a1",
      "30de4411bbe24a2d8368ebbd14d979d5",
      "91d9fb3e65414099aa8826d6105c1a52",
      "1de46fcbcb0943138b5201ddd4931c46",
      "39502daa8ba442348525ef34767bde63",
      "34b4e3cee99349d0b0bf538f872dfa76",
      "6c2aab66dfc84877a41fdd24af64e131"
     ]
    },
    "id": "pXjv4W2hSs20",
    "outputId": "197a9563-123c-4905-9524-92b9e4e2b844"
   },
   "outputs": [
    {
     "name": "stderr",
     "output_type": "stream",
     "text": [
      "Using custom data configuration default-27edd8668677dc0d\n",
      "Reusing dataset csv (/root/.cache/huggingface/datasets/csv/default-27edd8668677dc0d/0.0.0/433e0ccc46f9880962cc2b12065189766fbb2bee57a221866138fb9203c83519)\n"
     ]
    },
    {
     "data": {
      "application/vnd.jupyter.widget-view+json": {
       "model_id": "e540dc6a8a94426798ba1d83c11790e8",
       "version_major": 2,
       "version_minor": 0
      },
      "text/plain": [
       "  0%|          | 0/1 [00:00<?, ?it/s]"
      ]
     },
     "metadata": {},
     "output_type": "display_data"
    },
    {
     "name": "stderr",
     "output_type": "stream",
     "text": [
      "Loading cached processed dataset at /root/.cache/huggingface/datasets/csv/default-27edd8668677dc0d/0.0.0/433e0ccc46f9880962cc2b12065189766fbb2bee57a221866138fb9203c83519/cache-250d4864068a61ff.arrow\n",
      "Using custom data configuration default-a15e2e740b1162cd\n",
      "Reusing dataset csv (/root/.cache/huggingface/datasets/csv/default-a15e2e740b1162cd/0.0.0/433e0ccc46f9880962cc2b12065189766fbb2bee57a221866138fb9203c83519)\n"
     ]
    },
    {
     "data": {
      "application/vnd.jupyter.widget-view+json": {
       "model_id": "376034c995e04cef86f46cdaa8a08af6",
       "version_major": 2,
       "version_minor": 0
      },
      "text/plain": [
       "  0%|          | 0/1 [00:00<?, ?it/s]"
      ]
     },
     "metadata": {},
     "output_type": "display_data"
    },
    {
     "name": "stderr",
     "output_type": "stream",
     "text": [
      "Loading cached processed dataset at /root/.cache/huggingface/datasets/csv/default-a15e2e740b1162cd/0.0.0/433e0ccc46f9880962cc2b12065189766fbb2bee57a221866138fb9203c83519/cache-53740c8fce8e4ca8.arrow\n"
     ]
    }
   ],
   "source": [
    "datamodule = TextClassificationData.from_csv(\n",
    "    \"review\",\n",
    "    \"sentiment\",\n",
    "    train_file=\"data/imdb/train.csv\",\n",
    "    val_file=\"data/imdb/valid.csv\",\n",
    "    batch_size=64,\n",
    ")"
   ]
  },
  {
   "cell_type": "code",
   "execution_count": null,
   "id": "7",
   "metadata": {
    "id": "9f5d0474",
    "pycharm": {
     "name": "#%%\n"
    },
    "tags": []
   },
   "outputs": [],
   "source": [
    "suggested_conf = dict(\n",
    "    optimizer=[\"adam\", \"sgd\"],\n",
    "    lr=(5e-4, 1e-3),\n",
    ")\n",
    "\n",
    "model = AutoTextClassifier(\n",
    "    datamodule,\n",
    "    suggested_backbones=[\"prajjwal1/bert-tiny\"],\n",
    "    suggested_conf=suggested_conf,\n",
    "    max_epochs=1,\n",
    "    optimization_metric=\"val_accuracy\",\n",
    "    n_trials=3,\n",
    "    prune=True,\n",
    ")\n",
    "\n",
    "print(\"AutoTextClassifier initialised!\")\n",
    "model.hp_tune(gpu=1/3)"
   ]
  },
  {
   "cell_type": "code",
   "execution_count": null,
   "id": "8",
   "metadata": {
    "colab": {
     "base_uri": "https://localhost:8080/",
     "height": 237
    },
    "id": "4a9c19a3",
    "outputId": "08335ccb-1a53-4981-ac64-62b8b36d2f2d"
   },
   "outputs": [
    {
     "data": {
      "text/html": [
       "\n",
       "  <div id=\"df-7fa59706-a268-4aef-89f8-e8974ac5a546\">\n",
       "    <div class=\"colab-df-container\">\n",
       "      <div>\n",
       "<style scoped>\n",
       "    .dataframe tbody tr th:only-of-type {\n",
       "        vertical-align: middle;\n",
       "    }\n",
       "\n",
       "    .dataframe tbody tr th {\n",
       "        vertical-align: top;\n",
       "    }\n",
       "\n",
       "    .dataframe thead th {\n",
       "        text-align: right;\n",
       "    }\n",
       "</style>\n",
       "<table border=\"1\" class=\"dataframe\">\n",
       "  <thead>\n",
       "    <tr style=\"text-align: right;\">\n",
       "      <th></th>\n",
       "      <th>val_accuracy</th>\n",
       "      <th>train_accuracy</th>\n",
       "      <th>time_this_iter_s</th>\n",
       "      <th>should_checkpoint</th>\n",
       "      <th>done</th>\n",
       "      <th>timesteps_total</th>\n",
       "      <th>episodes_total</th>\n",
       "      <th>training_iteration</th>\n",
       "      <th>trial_id</th>\n",
       "      <th>experiment_id</th>\n",
       "      <th>...</th>\n",
       "      <th>hostname</th>\n",
       "      <th>node_ip</th>\n",
       "      <th>time_since_restore</th>\n",
       "      <th>timesteps_since_restore</th>\n",
       "      <th>iterations_since_restore</th>\n",
       "      <th>warmup_time</th>\n",
       "      <th>config/backbone</th>\n",
       "      <th>config/lr</th>\n",
       "      <th>config/optimizer</th>\n",
       "      <th>logdir</th>\n",
       "    </tr>\n",
       "  </thead>\n",
       "  <tbody>\n",
       "    <tr>\n",
       "      <th>0</th>\n",
       "      <td>0.8208</td>\n",
       "      <td>0.875000</td>\n",
       "      <td>58.556785</td>\n",
       "      <td>True</td>\n",
       "      <td>False</td>\n",
       "      <td>NaN</td>\n",
       "      <td>NaN</td>\n",
       "      <td>1</td>\n",
       "      <td>29bf7_00000</td>\n",
       "      <td>16c9bff4926a49168f54720c0443e38b</td>\n",
       "      <td>...</td>\n",
       "      <td>4af1932bdf0c</td>\n",
       "      <td>172.28.0.2</td>\n",
       "      <td>58.556785</td>\n",
       "      <td>0</td>\n",
       "      <td>1</td>\n",
       "      <td>0.005947</td>\n",
       "      <td>prajjwal1/bert-tiny</td>\n",
       "      <td>0.000523</td>\n",
       "      <td>adam</td>\n",
       "      <td>/root/ray_results/optimization_objective_2022-...</td>\n",
       "    </tr>\n",
       "    <tr>\n",
       "      <th>1</th>\n",
       "      <td>0.5960</td>\n",
       "      <td>0.578125</td>\n",
       "      <td>59.146531</td>\n",
       "      <td>True</td>\n",
       "      <td>False</td>\n",
       "      <td>NaN</td>\n",
       "      <td>NaN</td>\n",
       "      <td>1</td>\n",
       "      <td>29bf7_00001</td>\n",
       "      <td>fc357681df964fc9ab18fc84a6667e7c</td>\n",
       "      <td>...</td>\n",
       "      <td>4af1932bdf0c</td>\n",
       "      <td>172.28.0.2</td>\n",
       "      <td>59.146531</td>\n",
       "      <td>0</td>\n",
       "      <td>1</td>\n",
       "      <td>0.004946</td>\n",
       "      <td>prajjwal1/bert-tiny</td>\n",
       "      <td>0.000919</td>\n",
       "      <td>sgd</td>\n",
       "      <td>/root/ray_results/optimization_objective_2022-...</td>\n",
       "    </tr>\n",
       "    <tr>\n",
       "      <th>2</th>\n",
       "      <td>0.8236</td>\n",
       "      <td>0.843750</td>\n",
       "      <td>38.021982</td>\n",
       "      <td>True</td>\n",
       "      <td>False</td>\n",
       "      <td>NaN</td>\n",
       "      <td>NaN</td>\n",
       "      <td>1</td>\n",
       "      <td>29bf7_00002</td>\n",
       "      <td>f8ea8f938eba436aa5d060f77efcd871</td>\n",
       "      <td>...</td>\n",
       "      <td>4af1932bdf0c</td>\n",
       "      <td>172.28.0.2</td>\n",
       "      <td>38.021982</td>\n",
       "      <td>0</td>\n",
       "      <td>1</td>\n",
       "      <td>0.004159</td>\n",
       "      <td>prajjwal1/bert-tiny</td>\n",
       "      <td>0.000639</td>\n",
       "      <td>adam</td>\n",
       "      <td>/root/ray_results/optimization_objective_2022-...</td>\n",
       "    </tr>\n",
       "  </tbody>\n",
       "</table>\n",
       "<p>3 rows × 24 columns</p>\n",
       "</div>\n",
       "      <button class=\"colab-df-convert\" onclick=\"convertToInteractive('df-7fa59706-a268-4aef-89f8-e8974ac5a546')\"\n",
       "              title=\"Convert this dataframe to an interactive table.\"\n",
       "              style=\"display:none;\">\n",
       "        \n",
       "  <svg xmlns=\"http://www.w3.org/2000/svg\" height=\"24px\"viewBox=\"0 0 24 24\"\n",
       "       width=\"24px\">\n",
       "    <path d=\"M0 0h24v24H0V0z\" fill=\"none\"/>\n",
       "    <path d=\"M18.56 5.44l.94 2.06.94-2.06 2.06-.94-2.06-.94-.94-2.06-.94 2.06-2.06.94zm-11 1L8.5 8.5l.94-2.06 2.06-.94-2.06-.94L8.5 2.5l-.94 2.06-2.06.94zm10 10l.94 2.06.94-2.06 2.06-.94-2.06-.94-.94-2.06-.94 2.06-2.06.94z\"/><path d=\"M17.41 7.96l-1.37-1.37c-.4-.4-.92-.59-1.43-.59-.52 0-1.04.2-1.43.59L10.3 9.45l-7.72 7.72c-.78.78-.78 2.05 0 2.83L4 21.41c.39.39.9.59 1.41.59.51 0 1.02-.2 1.41-.59l7.78-7.78 2.81-2.81c.8-.78.8-2.07 0-2.86zM5.41 20L4 18.59l7.72-7.72 1.47 1.35L5.41 20z\"/>\n",
       "  </svg>\n",
       "      </button>\n",
       "      \n",
       "  <style>\n",
       "    .colab-df-container {\n",
       "      display:flex;\n",
       "      flex-wrap:wrap;\n",
       "      gap: 12px;\n",
       "    }\n",
       "\n",
       "    .colab-df-convert {\n",
       "      background-color: #E8F0FE;\n",
       "      border: none;\n",
       "      border-radius: 50%;\n",
       "      cursor: pointer;\n",
       "      display: none;\n",
       "      fill: #1967D2;\n",
       "      height: 32px;\n",
       "      padding: 0 0 0 0;\n",
       "      width: 32px;\n",
       "    }\n",
       "\n",
       "    .colab-df-convert:hover {\n",
       "      background-color: #E2EBFA;\n",
       "      box-shadow: 0px 1px 2px rgba(60, 64, 67, 0.3), 0px 1px 3px 1px rgba(60, 64, 67, 0.15);\n",
       "      fill: #174EA6;\n",
       "    }\n",
       "\n",
       "    [theme=dark] .colab-df-convert {\n",
       "      background-color: #3B4455;\n",
       "      fill: #D2E3FC;\n",
       "    }\n",
       "\n",
       "    [theme=dark] .colab-df-convert:hover {\n",
       "      background-color: #434B5C;\n",
       "      box-shadow: 0px 1px 3px 1px rgba(0, 0, 0, 0.15);\n",
       "      filter: drop-shadow(0px 1px 2px rgba(0, 0, 0, 0.3));\n",
       "      fill: #FFFFFF;\n",
       "    }\n",
       "  </style>\n",
       "\n",
       "      <script>\n",
       "        const buttonEl =\n",
       "          document.querySelector('#df-7fa59706-a268-4aef-89f8-e8974ac5a546 button.colab-df-convert');\n",
       "        buttonEl.style.display =\n",
       "          google.colab.kernel.accessAllowed ? 'block' : 'none';\n",
       "\n",
       "        async function convertToInteractive(key) {\n",
       "          const element = document.querySelector('#df-7fa59706-a268-4aef-89f8-e8974ac5a546');\n",
       "          const dataTable =\n",
       "            await google.colab.kernel.invokeFunction('convertToInteractive',\n",
       "                                                     [key], {});\n",
       "          if (!dataTable) return;\n",
       "\n",
       "          const docLinkHtml = 'Like what you see? Visit the ' +\n",
       "            '<a target=\"_blank\" href=https://colab.research.google.com/notebooks/data_table.ipynb>data table notebook</a>'\n",
       "            + ' to learn more about interactive tables.';\n",
       "          element.innerHTML = '';\n",
       "          dataTable['output_type'] = 'display_data';\n",
       "          await google.colab.output.renderOutput(dataTable, element);\n",
       "          const docLink = document.createElement('div');\n",
       "          docLink.innerHTML = docLinkHtml;\n",
       "          element.appendChild(docLink);\n",
       "        }\n",
       "      </script>\n",
       "    </div>\n",
       "  </div>\n",
       "  "
      ],
      "text/plain": [
       "   val_accuracy  train_accuracy  time_this_iter_s  should_checkpoint   done  \\\n",
       "0        0.8208        0.875000         58.556785               True  False   \n",
       "1        0.5960        0.578125         59.146531               True  False   \n",
       "2        0.8236        0.843750         38.021982               True  False   \n",
       "\n",
       "   timesteps_total  episodes_total  training_iteration     trial_id  \\\n",
       "0              NaN             NaN                   1  29bf7_00000   \n",
       "1              NaN             NaN                   1  29bf7_00001   \n",
       "2              NaN             NaN                   1  29bf7_00002   \n",
       "\n",
       "                      experiment_id  ...      hostname     node_ip  \\\n",
       "0  16c9bff4926a49168f54720c0443e38b  ...  4af1932bdf0c  172.28.0.2   \n",
       "1  fc357681df964fc9ab18fc84a6667e7c  ...  4af1932bdf0c  172.28.0.2   \n",
       "2  f8ea8f938eba436aa5d060f77efcd871  ...  4af1932bdf0c  172.28.0.2   \n",
       "\n",
       "   time_since_restore  timesteps_since_restore iterations_since_restore  \\\n",
       "0           58.556785                        0                        1   \n",
       "1           59.146531                        0                        1   \n",
       "2           38.021982                        0                        1   \n",
       "\n",
       "  warmup_time      config/backbone  config/lr  config/optimizer  \\\n",
       "0    0.005947  prajjwal1/bert-tiny   0.000523              adam   \n",
       "1    0.004946  prajjwal1/bert-tiny   0.000919               sgd   \n",
       "2    0.004159  prajjwal1/bert-tiny   0.000639              adam   \n",
       "\n",
       "                                              logdir  \n",
       "0  /root/ray_results/optimization_objective_2022-...  \n",
       "1  /root/ray_results/optimization_objective_2022-...  \n",
       "2  /root/ray_results/optimization_objective_2022-...  \n",
       "\n",
       "[3 rows x 24 columns]"
      ]
     },
     "execution_count": null,
     "metadata": {},
     "output_type": "execute_result"
    }
   ],
   "source": [
    "model.analysis.dataframe()"
   ]
  },
  {
   "cell_type": "code",
   "execution_count": null,
   "id": "9",
   "metadata": {
    "colab": {
     "base_uri": "https://localhost:8080/"
    },
    "id": "d0b96bd0-3949-4dd5-b6d9-4fa6ac213e30",
    "outputId": "afb3c15f-6773-4c27-a906-6a19aceabf4a"
   },
   "outputs": [
    {
     "name": "stderr",
     "output_type": "stream",
     "text": [
      "GPU available: True, used: True\n",
      "TPU available: False, using: 0 TPU cores\n",
      "IPU available: False, using: 0 IPUs\n",
      "HPU available: False, using: 0 HPUs\n"
     ]
    }
   ],
   "source": [
    "from flash import Trainer\n",
    "trainer = Trainer(accelerator=\"auto\", devices=1)"
   ]
  },
  {
   "cell_type": "code",
   "execution_count": null,
   "id": "10",
   "metadata": {
    "colab": {
     "base_uri": "https://localhost:8080/",
     "height": 202,
     "referenced_widgets": [
      "0c989d6ae2e14314b8b8569ac2c9c6aa",
      "441cb52751054f06936be4263f511870",
      "44bca9eb2e9e49d0a500b6aedeb8ecc1",
      "801d6df65a514a6b83ddd854fad9c6d6",
      "51ec1ed37b404dec80eb4c1647e58d7e",
      "d537fc509aef41778dd9d34710540f31",
      "d03abf6a42ec4b059cbc5c1d013dde77",
      "51d1ddcb01f443efbf84b755f4a54312",
      "d31bb8e13590462a972b1a8ed4dfe095",
      "ee150856f7184b9f886aafbc1d82993a",
      "eff6c9f0350947778394244298023166"
     ]
    },
    "id": "6a95bc01-4291-49a8-bea7-c76ba64bf42a",
    "outputId": "70f30ac7-ad19-4987-9a1b-a02cffe61ea6"
   },
   "outputs": [
    {
     "name": "stderr",
     "output_type": "stream",
     "text": [
      "Missing logger folder: /lightning_logs\n",
      "LOCAL_RANK: 0 - CUDA_VISIBLE_DEVICES: [0]\n"
     ]
    },
    {
     "data": {
      "application/vnd.jupyter.widget-view+json": {
       "model_id": "0c989d6ae2e14314b8b8569ac2c9c6aa",
       "version_major": 2,
       "version_minor": 0
      },
      "text/plain": [
       "Validation: 0it [00:00, ?it/s]"
      ]
     },
     "metadata": {},
     "output_type": "display_data"
    },
    {
     "data": {
      "text/html": [
       "<pre style=\"white-space:pre;overflow-x:auto;line-height:normal;font-family:Menlo,'DejaVu Sans Mono',consolas,'Courier New',monospace\">┏━━━━━━━━━━━━━━━━━━━━━━━━━━━┳━━━━━━━━━━━━━━━━━━━━━━━━━━━┓\n",
       "┃<span style=\"font-weight: bold\">      Validate metric      </span>┃<span style=\"font-weight: bold\">       DataLoader 0        </span>┃\n",
       "┡━━━━━━━━━━━━━━━━━━━━━━━━━━━╇━━━━━━━━━━━━━━━━━━━━━━━━━━━┩\n",
       "│<span style=\"color: #008080; text-decoration-color: #008080\">       val_accuracy        </span>│<span style=\"color: #800080; text-decoration-color: #800080\">    0.7681461572647095     </span>│\n",
       "│<span style=\"color: #008080; text-decoration-color: #008080\">     val_cross_entropy     </span>│<span style=\"color: #800080; text-decoration-color: #800080\">    0.3843795359134674     </span>│\n",
       "└───────────────────────────┴───────────────────────────┘\n",
       "</pre>\n"
      ],
      "text/plain": [
       "┏━━━━━━━━━━━━━━━━━━━━━━━━━━━┳━━━━━━━━━━━━━━━━━━━━━━━━━━━┓\n",
       "┃\u001b[1m \u001b[0m\u001b[1m     Validate metric     \u001b[0m\u001b[1m \u001b[0m┃\u001b[1m \u001b[0m\u001b[1m      DataLoader 0       \u001b[0m\u001b[1m \u001b[0m┃\n",
       "┡━━━━━━━━━━━━━━━━━━━━━━━━━━━╇━━━━━━━━━━━━━━━━━━━━━━━━━━━┩\n",
       "│\u001b[36m \u001b[0m\u001b[36m      val_accuracy       \u001b[0m\u001b[36m \u001b[0m│\u001b[35m \u001b[0m\u001b[35m   0.7681461572647095    \u001b[0m\u001b[35m \u001b[0m│\n",
       "│\u001b[36m \u001b[0m\u001b[36m    val_cross_entropy    \u001b[0m\u001b[36m \u001b[0m│\u001b[35m \u001b[0m\u001b[35m   0.3843795359134674    \u001b[0m\u001b[35m \u001b[0m│\n",
       "└───────────────────────────┴───────────────────────────┘\n"
      ]
     },
     "metadata": {},
     "output_type": "display_data"
    },
    {
     "data": {
      "text/plain": [
       "[{'val_accuracy': 0.7681461572647095, 'val_cross_entropy': 0.3843795359134674}]"
      ]
     },
     "execution_count": null,
     "metadata": {},
     "output_type": "execute_result"
    }
   ],
   "source": [
    "trainer.validate(model.model, datamodule=datamodule)"
   ]
  }
 ],
 "metadata": {
  "accelerator": "GPU",
  "colab": {
   "name": "02-TextClassification.ipynb",
   "provenance": []
  },
  "interpreter": {
   "hash": "e6697cd4c0f4f58297a92a2dfda85db933b7e27cf6bc19e3dafb7e93fff75254"
  },
  "kernelspec": {
   "display_name": "Python 3 (ipykernel)",
   "language": "python",
   "name": "python3"
  },
  "language_info": {
   "codemirror_mode": {
    "name": "ipython",
    "version": 3
   },
   "file_extension": ".py",
   "mimetype": "text/x-python",
   "name": "python",
   "nbconvert_exporter": "python",
   "pygments_lexer": "ipython3",
   "version": "3.9.12"
  }
 },
 "nbformat": 4,
 "nbformat_minor": 5
}
