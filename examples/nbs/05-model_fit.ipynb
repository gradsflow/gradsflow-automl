{
 "cells": [
  {
   "cell_type": "markdown",
   "id": "0",
   "metadata": {},
   "source": [
    "<!--<badge>--><a href=\"https://colab.research.google.com/github/gradsflow/gradsflow/blob/main/examples/nbs/05-model_fit.ipynb\" target=\"_parent\"><img src=\"https://colab.research.google.com/assets/colab-badge.svg\" alt=\"Open In Colab\"/></a><!--</badge>-->"
   ]
  },
  {
   "cell_type": "code",
   "execution_count": null,
   "id": "1",
   "metadata": {},
   "outputs": [],
   "source": [
    "import torchvision\n",
    "from timm import create_model\n",
    "from torch.utils.data import DataLoader\n",
    "from torchvision import transforms as T\n",
    "\n",
    "from gradsflow import AutoDataset, Model\n",
    "from gradsflow.callbacks import (\n",
    "    CSVLogger,\n",
    "    EmissionTrackerCallback,\n",
    "    ModelCheckpoint,\n",
    ")\n",
    "from gradsflow.data.common import random_split_dataset"
   ]
  },
  {
   "cell_type": "code",
   "execution_count": null,
   "id": "2",
   "metadata": {},
   "outputs": [
    {
     "name": "stdout",
     "output_type": "stream",
     "text": [
      "Files already downloaded and verified\n"
     ]
    }
   ],
   "source": [
    "# Replace dataloaders with your custom dataset and you are all set to train your model\n",
    "image_size = (64, 64)\n",
    "batch_size = 4\n",
    "\n",
    "to_rgb = lambda x: x.convert(\"RGB\")\n",
    "\n",
    "augs = T.Compose([to_rgb, T.AutoAugment(), T.Resize(image_size), T.ToTensor()])\n",
    "data = torchvision.datasets.Caltech101(\"~/\", download=True, transform=augs)\n",
    "train_data, val_data = random_split_dataset(data, 0.99)\n",
    "train_dl = DataLoader(train_data, batch_size=batch_size)\n",
    "val_dl = DataLoader(val_data, batch_size=batch_size)\n",
    "num_classes = len(data.categories)"
   ]
  },
  {
   "cell_type": "code",
   "execution_count": null,
   "id": "3",
   "metadata": {},
   "outputs": [
    {
     "name": "stderr",
     "output_type": "stream",
     "text": [
      "CODECARBON : No CPU tracking mode found. Falling back on CPU constant mode.\n",
      "/Users/aniket/miniconda3/envs/am/lib/python3.9/site-packages/apscheduler/util.py:95: PytzUsageWarning: The zone attribute is specific to pytz's interface; please migrate to a new time zone provider. For more details on how to do so, see https://pytz-deprecation-shim.readthedocs.io/en/latest/migration.html\n",
      "  if obj.zone == 'local':\n",
      "/Users/aniket/miniconda3/envs/am/lib/python3.9/site-packages/apscheduler/triggers/interval.py:66: PytzUsageWarning: The normalize method is no longer necessary, as this time zone supports the fold attribute (PEP 495). For more details on migrating to a PEP 495-compliant implementation, see https://pytz-deprecation-shim.readthedocs.io/en/latest/migration.html\n",
      "  return self.timezone.normalize(next_fire_time)\n"
     ]
    }
   ],
   "source": [
    "cbs = [\n",
    "    CSVLogger(\n",
    "        verbose=True,\n",
    "    ),\n",
    "    ModelCheckpoint(),\n",
    "    EmissionTrackerCallback(),\n",
    "    # CometCallback(offline=True),\n",
    "]"
   ]
  },
  {
   "cell_type": "code",
   "execution_count": null,
   "id": "4",
   "metadata": {},
   "outputs": [
    {
     "data": {
      "application/vnd.jupyter.widget-view+json": {
       "model_id": "e4eb63f7dc584cfcb22d92f15c96bbf3",
       "version_major": 2,
       "version_minor": 0
      },
      "text/plain": [
       "Output()"
      ]
     },
     "metadata": {},
     "output_type": "display_data"
    }
   ],
   "source": [
    "autodataset = AutoDataset(train_dl, val_dl, num_classes=num_classes)\n",
    "cnn = create_model(\"resnet18\", pretrained=False, num_classes=num_classes)\n",
    "\n",
    "model = Model(cnn)\n",
    "\n",
    "model.compile(\"crossentropyloss\", \"adam\", metrics=[\"accuracy\"])\n",
    "model.fit(autodataset, max_epochs=10, steps_per_epoch=10, callbacks=cbs)"
   ]
  }
 ],
 "metadata": {
  "interpreter": {
   "hash": "e2d961b663a5ae03743cd178a74853be9b21def56a249d21ac1502fcfb05a9ce"
  },
  "kernelspec": {
   "display_name": "Python 3 (ipykernel)",
   "language": "python",
   "name": "python3"
  },
  "language_info": {
   "codemirror_mode": {
    "name": "ipython",
    "version": 3
   },
   "file_extension": ".py",
   "mimetype": "text/x-python",
   "name": "python",
   "nbconvert_exporter": "python",
   "pygments_lexer": "ipython3",
   "version": "3.9.9"
  },
  "toc": {
   "base_numbering": 1,
   "nav_menu": {},
   "number_sections": true,
   "sideBar": true,
   "skip_h1_title": false,
   "title_cell": "Table of Contents",
   "title_sidebar": "Contents",
   "toc_cell": false,
   "toc_position": {},
   "toc_section_display": true,
   "toc_window_display": false
  }
 },
 "nbformat": 4,
 "nbformat_minor": 5
}
